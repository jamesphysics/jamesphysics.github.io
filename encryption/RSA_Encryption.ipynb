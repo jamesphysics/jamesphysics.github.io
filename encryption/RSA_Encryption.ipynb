{
  "nbformat": 4,
  "nbformat_minor": 0,
  "metadata": {
    "colab": {
      "name": "RSA Encryption.ipynb",
      "provenance": [],
      "toc_visible": true,
      "authorship_tag": "ABX9TyMQhoUWv7wiee8fmlPWLtV+",
      "include_colab_link": true
    },
    "kernelspec": {
      "name": "python3",
      "display_name": "Python 3"
    },
    "language_info": {
      "name": "python"
    }
  },
  "cells": [
    {
      "cell_type": "markdown",
      "metadata": {
        "id": "view-in-github",
        "colab_type": "text"
      },
      "source": [
        "<a href=\"https://colab.research.google.com/github/jamesphysics/ShorsAlgorithm/blob/main/RSA_Encryption.ipynb\" target=\"_parent\"><img src=\"https://colab.research.google.com/assets/colab-badge.svg\" alt=\"Open In Colab\"/></a>"
      ]
    },
    {
      "cell_type": "markdown",
      "metadata": {
        "id": "ueTCQMN-N4sg"
      },
      "source": [
        "# RSA encryption using public keys\n",
        "RSA encyption is underpinned by prime numbers. Let's start with our two \"secret\" prime numbers (5, 11) and then see how we can use them to encrypt and decrypt a secret message that someone has securely sent to us.\n",
        "\n",
        "(For more information on this example see: https://thatsmaths.com/2016/08/11/a-toy-example-of-rsa-encryption/ )"
      ]
    },
    {
      "cell_type": "code",
      "metadata": {
        "id": "7abNImSLN7R3"
      },
      "source": [
        "# Secret primes are used as seeds to generate the public key\n",
        "p, q = 5, 11\n",
        "\n",
        "# Factorization is difficult so it is safe to share n publicly without revealing\n",
        "# p and q\n",
        "n_public = p * q"
      ],
      "execution_count": null,
      "outputs": []
    },
    {
      "cell_type": "markdown",
      "metadata": {
        "id": "LZpNk6INOjBE"
      },
      "source": [
        "We require the ability to receive messages from a sender without any prior exchanging of secret information. To achieve this we use our primes to generate, and then publicize, a public key made up of two numbers $(e, n)$.\n",
        "\n",
        "In the scheme laid out by RSA $e$, the encryption index can be any number less than $n$ so long as it is coprime with Euler's totient function, $\\phi =  (p-1)\\times(q-1)$\n",
        "\n",
        "(For more information on the GCD algorithm and it's extended version which shows up later see: https://www.geeksforgeeks.org/euclidean-algorithms-basic-and-extended/ )"
      ]
    },
    {
      "cell_type": "code",
      "metadata": {
        "colab": {
          "base_uri": "https://localhost:8080/"
        },
        "id": "qe2LDht5PYi2",
        "outputId": "7cf491bd-1684-4f20-e2da-87acfa318357"
      },
      "source": [
        "# \"Totient function\" used to generate encryption keys\n",
        "phi = (p-1)*(q-1)\n",
        "\n",
        "# Public Key (e, n) used to encrypt the message\n",
        "e_public = 7\n",
        "\n",
        "# Ensure the encryption index is coprime with our totient function by checking \n",
        "# The greatest common divisor is 1 (they have no other shared factors)\n",
        "def gcd(a, b):\n",
        "  if (a == 0):\n",
        "    return b\n",
        "  return gcd(b % a, a)\n",
        "assert gcd(e_public, phi) == 1\n",
        "\n",
        "print ('Public key:', n_public, ',', e_public)"
      ],
      "execution_count": null,
      "outputs": [
        {
          "output_type": "stream",
          "text": [
            "Public key: 55 , 7\n"
          ],
          "name": "stdout"
        }
      ]
    },
    {
      "cell_type": "markdown",
      "metadata": {
        "id": "rkrlliKxTolS"
      },
      "source": [
        ""
      ]
    },
    {
      "cell_type": "markdown",
      "metadata": {
        "id": "1bFQ8KcA4XmX"
      },
      "source": [
        "## Encryption Cipher\n",
        "To calculate the Cipher message, $C$, the sender follows the formula:\n",
        "\n",
        "$C = P^e (\\text{ mod }n )$\n",
        "\n",
        "In order to apply this method, the message needs to be broken down into blocks smaller than $n$ which in this case is 55.\n",
        "\n",
        "Since there are only 26 letters in the alphabet we just convert the message into a string of numbers by assigning each letter a number value based on it's position in the alphabet."
      ]
    },
    {
      "cell_type": "code",
      "metadata": {
        "colab": {
          "base_uri": "https://localhost:8080/"
        },
        "id": "dDV1IstCpMgf",
        "outputId": "8c646713-50ec-4bc8-d259-dccfba1f6f6a"
      },
      "source": [
        "message = 'secret'\n",
        "print('Plain-text:', message)\n",
        "\n",
        "def encrypt(message, e, n):\n",
        "  encoded = [ord(letter) - 96 for letter in message]\n",
        "  ciphertext = [(letter ** e) % n for letter in encoded]\n",
        "  encryptedmessage = ''.join([chr(letter + 96) for letter in ciphertext])\n",
        "  return str(encryptedmessage)\n",
        "\n",
        "encryptedmessage = encrypt(message, e_public, n_public)\n",
        "print('Cipher-text:', encryptedmessage)"
      ],
      "execution_count": null,
      "outputs": [
        {
          "output_type": "stream",
          "text": [
            "Plain-text: secret\n",
            "Cipher-text: xyqyo\n"
          ],
          "name": "stdout"
        }
      ]
    },
    {
      "cell_type": "markdown",
      "metadata": {
        "id": "fnQ0ZtNrQMTQ"
      },
      "source": [
        "## Decrypting the message\n",
        "We, the receiver, then apply the decryption scheme:\n",
        "\n",
        "$D = C^d (\\text{ mod }n)$"
      ]
    },
    {
      "cell_type": "code",
      "metadata": {
        "id": "NL1NsikLUFbC"
      },
      "source": [
        "def decrypt(encryptedmessage, d, n):\n",
        "  encryptedmessage = [ord(letter) - 96 for letter in encryptedmessage]\n",
        "  plaintext = [(letter ** d) % n for letter in encryptedmessage]\n",
        "  message = ''.join([chr(letter + 96) for letter in plaintext])\n",
        "  return message"
      ],
      "execution_count": null,
      "outputs": []
    },
    {
      "cell_type": "markdown",
      "metadata": {
        "id": "5btMQw1VUI45"
      },
      "source": [
        "When $ e \\times d \\equiv 1 \\text{ mod } \\phi, 0 \\leq d \\leq n $ \n",
        "\n",
        "$D = P$ and so our decrypted and plaintext messages will be the same.\n",
        "\n",
        "To set this up, the decryption index $d$ is constructed from our secret prime using Euler's extended algorithm"
      ]
    },
    {
      "cell_type": "code",
      "metadata": {
        "colab": {
          "base_uri": "https://localhost:8080/"
        },
        "id": "ub_dYgbPP-qL",
        "outputId": "ba11cc0d-2158-4baa-d1c3-631d04097610"
      },
      "source": [
        "def gcdExtended(a, b):\n",
        "\n",
        "    # Base Case\n",
        "    if a == 0 : \n",
        "        return b, 0, 1\n",
        "            \n",
        "    gcd, x1, y1 = gcdExtended(b%a, a)\n",
        "    \n",
        "    # Update x and y using results of recursive\n",
        "    # call\n",
        "    x = y1 - (b//a) * x1\n",
        "    y = x1\n",
        "    \n",
        "    return gcd, x, y\n",
        "\n",
        "_, _, d_private = gcdExtended(phi, e_public)\n",
        "d_private %= phi\n",
        "\n",
        "print ('Private decryption key:', d_private)"
      ],
      "execution_count": null,
      "outputs": [
        {
          "output_type": "stream",
          "text": [
            "Private decryption key: 23\n"
          ],
          "name": "stdout"
        }
      ]
    },
    {
      "cell_type": "markdown",
      "metadata": {
        "id": "pVPJr-keUa5c"
      },
      "source": [
        "This is our secret key, it is important not to share this with anyone as it can be used to decrypt any messages that are encrypted using our public key."
      ]
    },
    {
      "cell_type": "code",
      "metadata": {
        "colab": {
          "base_uri": "https://localhost:8080/"
        },
        "id": "hAeHljdTUh_E",
        "outputId": "4769d1a6-59bb-45a2-9817-9f205f4c0305"
      },
      "source": [
        "print('Encrypted message:', encryptedmessage)\n",
        "\n",
        "decryptedmessage = decrypt(encryptedmessage, d_private, n_public)\n",
        "print('Decrypted message:', decryptedmessage)"
      ],
      "execution_count": null,
      "outputs": [
        {
          "output_type": "stream",
          "text": [
            "Encrypted message: xyqyo\n",
            "Decrypted message: secret\n"
          ],
          "name": "stdout"
        }
      ]
    },
    {
      "cell_type": "markdown",
      "metadata": {
        "id": "cu5tbY4DcqLX"
      },
      "source": [
        "## Vulnerability to Attack\n",
        "Imagine a hacker is able to steal the encrypted message in transit"
      ]
    },
    {
      "cell_type": "code",
      "metadata": {
        "colab": {
          "base_uri": "https://localhost:8080/"
        },
        "id": "nlsTT5eLc4Er",
        "outputId": "625923b6-da5e-42b7-8e05-7ada9e083e8e"
      },
      "source": [
        "stolenmessage = encryptedmessage\n",
        "\n",
        "print('Stolen message:', stolenmessage)"
      ],
      "execution_count": null,
      "outputs": [
        {
          "output_type": "stream",
          "text": [
            "Stolen message: xyqyo\n"
          ],
          "name": "stdout"
        }
      ]
    },
    {
      "cell_type": "markdown",
      "metadata": {
        "id": "Uwuo2TaP2Juk"
      },
      "source": [
        "\n",
        "The stolen message should be completely meaningless because the hacker does not know $d_{private}$ the private decryption key required to read the message.\n",
        "\n",
        "The problem is that $n_{public}$ and $e_{public}$ are publicly available. We can use [SymPy](https://www.sympy.org/en/index.html) to factorize $n$, and find $p$ and $q$."
      ]
    },
    {
      "cell_type": "code",
      "metadata": {
        "colab": {
          "base_uri": "https://localhost:8080/"
        },
        "id": "JTVBwi-w9-1x",
        "outputId": "34c9d405-d779-426b-e4e7-d9ee091fa444"
      },
      "source": [
        "from sympy.ntheory import factorint\n",
        "\n",
        "a,b = factorint(n_public)\n",
        "print ('Factors:', a, ',', b)"
      ],
      "execution_count": null,
      "outputs": [
        {
          "output_type": "stream",
          "text": [
            "Factors: 5 , 11\n"
          ],
          "name": "stdout"
        }
      ]
    },
    {
      "cell_type": "markdown",
      "metadata": {
        "id": "yvZGLehXxXZe"
      },
      "source": [
        "Once we have these it is simple to calculate $\\phi$ and then use the extended Euclidean algorithm to generate $d_{secret}$ the secret decryption key which will expose the secret message."
      ]
    },
    {
      "cell_type": "code",
      "metadata": {
        "colab": {
          "base_uri": "https://localhost:8080/"
        },
        "id": "esFH7SnKwbY2",
        "outputId": "2e3bfc92-6d3c-4ab5-8dce-30459bcac349"
      },
      "source": [
        "phi_stolen = (a-1)*(b-1)\n",
        "_, _, d_stolen = gcdExtended(phi_stolen, e_public)\n",
        "d_stolen %= phi_stolen\n",
        "\n",
        "exposedmessage = decrypt(stolenmessage, d_stolen, n_public)\n",
        "print('Exposed message:', exposedmessage)"
      ],
      "execution_count": null,
      "outputs": [
        {
          "output_type": "stream",
          "text": [
            "Exposed message: secret\n"
          ],
          "name": "stdout"
        }
      ]
    },
    {
      "cell_type": "markdown",
      "metadata": {
        "id": "6HW6C1BExr79"
      },
      "source": [
        "## Safety in numbers\n",
        "The above vulnerability ignores a crucial fact which is that the usefully available factorint function is actually incredibly slow past a certain point.\n",
        "\n",
        "$55 \\sim 2^6$ and $7 \\sim 2^3$ so the encryption key requires only 9 bits to store. Keys used practically will be **at least** 1,024 bits and so much larger chunks of information can be encoded together and securely encrypted.\n",
        "\n",
        "In this toy example each character will just be predictable substituted for another which is a [simple substitution cipher](https://en.wikipedia.org/wiki/Substitution_cipher) and is very susceptible to attacks such as [frequency analysis](https://en.wikipedia.org/wiki/Frequency_analysis).\n",
        "\n",
        "The purpose of all this is of course not to use small 9 bit encryption keys that can only encrypt one character, but instead encrypt data using much larger keys.\n",
        "\n",
        "Google Colab has a handy feature which shows cell execution time.\n",
        "\n",
        "Trying to factor a 350 bit value took my computer over 2 minutes.\n",
        "\n",
        "Trying to go above 500 bits gets ridiculous and your computer will start to time out if you try to factor numbers this large."
      ]
    },
    {
      "cell_type": "code",
      "metadata": {
        "colab": {
          "base_uri": "https://localhost:8080/"
        },
        "id": "w4u4Ebin077m",
        "outputId": "20ba8f95-db98-4f2e-f81d-71b6a76f2f7c"
      },
      "source": [
        "exp = 350\n",
        "\n",
        "integer = 2**exp +1\n",
        "\n",
        "print(integer)\n",
        "print(factorint(integer))"
      ],
      "execution_count": null,
      "outputs": [
        {
          "output_type": "stream",
          "text": [
            "2293498615990071511610820895302086940796564989168281123737588839386922876088484808070018553110125686554625\n",
            "{5: 3, 29: 1, 41: 1, 101: 1, 113: 1, 701: 1, 8101: 1, 268501: 1, 7416361: 1, 47392381: 1, 2430065924693517198550322751963101: 1, 1038213793447841940908293355871461401: 1}\n"
          ],
          "name": "stdout"
        }
      ]
    },
    {
      "cell_type": "markdown",
      "metadata": {
        "id": "QCOXt9jqZfvP"
      },
      "source": [
        "The strong-willed readers may think that if they could just a your computer running long enough then *eventually* the answer would come out.\n",
        "\n",
        "The reality is that this would take about [300 trillion years](https://www.quintessencelabs.com/blog/breaking-rsa-encryption-update-state-art/), which is orders of magnitude larger than the currently known age of the universe (13.77 billion years).\n",
        "\n",
        "All of this is to say that, while computers are pretty good at factorizing small numbers, factorizing the keys that protect your bank details (as well as everything else) whilst *theoretically* possible, is in reality functionally impossible.\n",
        "\n",
        "The fascinating thing is that, according to the same article linked above, a powerful enough quantum computer could do this in as little as 10 seconds!"
      ]
    }
  ]
}